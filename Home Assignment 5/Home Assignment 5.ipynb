{
 "cells": [
  {
   "cell_type": "markdown",
   "metadata": {},
   "source": [
    "# 1 Sleep well"
   ]
  },
  {
   "cell_type": "code",
   "execution_count": 1,
   "metadata": {},
   "outputs": [],
   "source": [
    "import numpy as np\n",
    "import matplotlib.pyplot as plt\n",
    "from sklearn.linear_model import LogisticRegression\n",
    "from sklearn.model_selection import train_test_split\n",
    "from sklearn.metrics import zero_one_loss\n",
    "from sklearn.ensemble import RandomForestClassifier\n",
    "from sklearn.exceptions import ConvergenceWarning\n",
    "from sklearn.utils._testing import ignore_warnings\n",
    "from sklearn.preprocessing import StandardScaler\n",
    "from sklearn.neighbors import KNeighborsClassifier\n",
    "from sklearn.model_selection import GridSearchCV"
   ]
  },
  {
   "cell_type": "markdown",
   "metadata": {},
   "source": [
    "1.1 Data understanding and preprocessing"
   ]
  },
  {
   "cell_type": "code",
   "execution_count": 19,
   "metadata": {},
   "outputs": [
    {
     "name": "stdout",
     "output_type": "stream",
     "text": [
      "Class frequencies:\n",
      "Class 0: 0.520875\n",
      "Class 1: 0.095511\n",
      "Class 2: 0.252728\n",
      "Class 3: 0.046940\n",
      "Class 4: 0.083946\n"
     ]
    }
   ],
   "source": [
    "# Load the training data\n",
    "X_train = np.loadtxt('X_train.csv', delimiter=',')\n",
    "y_train = np.loadtxt('y_train.csv', delimiter=',')\n",
    "X_test = np.loadtxt('X_test.csv', delimiter=',')\n",
    "y_test = np.loadtxt('y_test.csv', delimiter=',')\n",
    "\n",
    "# Report the class frequencies\n",
    "print('Class frequencies:')\n",
    "for i in range(5):\n",
    "    print('Class %d: %f' % (i, np.sum(y_train == i) / y_train.shape[0]))"
   ]
  },
  {
   "cell_type": "markdown",
   "metadata": {},
   "source": [
    "Plot"
   ]
  },
  {
   "cell_type": "code",
   "execution_count": 15,
   "metadata": {},
   "outputs": [
    {
     "data": {
      "image/png": "[encoded data removed]",
      "text/plain": [
       "<Figure size 640x480 with 1 Axes>"
      ]
     },
     "metadata": {},
     "output_type": "display_data"
    }
   ],
   "source": [
    "# Plot class frequencies (bar plot)\n",
    "plt.bar(np.arange(5), [np.sum(y_train == i) / y_train.shape[0] for i in range(5)])\n",
    "plt.xlabel('Class')\n",
    "plt.ylabel('Frequency')\n",
    "plt.title('Class frequencies')\n",
    "plt.show()"
   ]
  },
  {
   "cell_type": "markdown",
   "metadata": {},
   "source": [
    "### 1.2 Classification"
   ]
  },
  {
   "cell_type": "markdown",
   "metadata": {},
   "source": [
    "1.2.1 Multinomial Logistic Regression"
   ]
  },
  {
   "cell_type": "code",
   "execution_count": 18,
   "metadata": {},
   "outputs": [
    {
     "name": "stdout",
     "output_type": "stream",
     "text": [
      "Zero-one loss training (softmax): 0.146182\n",
      "Zero-one loss on test data (softmax): 0.098842\n"
     ]
    }
   ],
   "source": [
    "# Split the training data into training and validation data (80/20 split)\n",
    "X_train, X_val, y_train, y_val = train_test_split(X_train, y_train, test_size=0.2, random_state=0)\n",
    "\n",
    "# Train softmax regression model\n",
    "with ignore_warnings(category=ConvergenceWarning):\n",
    "    softmax_model = LogisticRegression(multi_class='multinomial', solver='lbfgs', n_jobs=-1)\n",
    "    softmax_model.fit(X_train, y_train)\n",
    "\n",
    "# Make predictions on the validation data\n",
    "y_pred = softmax_model.predict(X_val)\n",
    "\n",
    "# Report the zero-one loss\n",
    "print('Zero-one loss training (softmax): %f' % zero_one_loss(y_val, y_pred))\n",
    "\n",
    "# Predict on test data\n",
    "y_pred_test = softmax_model.predict(X_test)\n",
    "\n",
    "# Report the zero-one loss\n",
    "print('Zero-one loss on test data (softmax): %f' % zero_one_loss(y_test, y_pred_test))"
   ]
  },
  {
   "cell_type": "markdown",
   "metadata": {},
   "source": [
    "1.2.2 Random Forest"
   ]
  },
  {
   "cell_type": "code",
   "execution_count": 22,
   "metadata": {},
   "outputs": [
    {
     "name": "stdout",
     "output_type": "stream",
     "text": [
      "Zero-one loss on training data with 50 trees: 0.143662\n",
      "Zero-one loss on test data with 50 trees: 0.112798\n",
      "Zero-one loss on training data with 100 trees: 0.141142\n",
      "Zero-one loss on test data with 100 trees: 0.110424\n",
      "Zero-one loss on training data with 200 trees: 0.141586\n",
      "Zero-one loss on test data with 200 trees: 0.110424\n"
     ]
    }
   ],
   "source": [
    "# Apply random forests with 50, 100, and 200 trees.\n",
    "for n_estimators in [50, 100, 200]:\n",
    "    # Train random forest classifier\n",
    "    rf_model = RandomForestClassifier(n_estimators=n_estimators, random_state=0, n_jobs=-1)\n",
    "    rf_model.fit(X_train, y_train)\n",
    "\n",
    "    # Make predictions on the training data\n",
    "    y_pred_train = rf_model.predict(X_val)\n",
    "\n",
    "    # Report the zero-one loss\n",
    "    print('Zero-one loss on training data with %d trees: %f' % (n_estimators, zero_one_loss(y_val, y_pred_train)))\n",
    "\n",
    "    # Make predictions on the test data\n",
    "    y_pred_test = rf_model.predict(X_test)\n",
    "\n",
    "    # Report the zero-one loss\n",
    "    print('Zero-one loss on test data with %d trees: %f' % (n_estimators, zero_one_loss(y_test, y_pred_test)))"
   ]
  },
  {
   "cell_type": "markdown",
   "metadata": {},
   "source": [
    "1.2.3 K-NN"
   ]
  },
  {
   "cell_type": "markdown",
   "metadata": {},
   "source": [
    "Without scaling"
   ]
  },
  {
   "cell_type": "code",
   "execution_count": 5,
   "metadata": {},
   "outputs": [
    {
     "name": "stdout",
     "output_type": "stream",
     "text": [
      "Optimal number of neighbors: 173\n",
      "Zero-one loss on training data with optimal number of 173 neighbors: 0.150071\n"
     ]
    }
   ],
   "source": [
    "# Load the data again\n",
    "X_train = np.loadtxt('X_train.csv', delimiter=',')\n",
    "y_train = np.loadtxt('y_train.csv', delimiter=',')\n",
    "X_test = np.loadtxt('X_test.csv', delimiter=',')\n",
    "y_test = np.loadtxt('y_test.csv', delimiter=',')\n",
    "\n",
    "# Define the parameter grid\n",
    "param_grid = {'n_neighbors': np.arange(1, 500)}\n",
    "\n",
    "# Define the grid search\n",
    "grid = GridSearchCV(KNeighborsClassifier(), param_grid, cv=5, scoring='accuracy', n_jobs=-1)\n",
    "\n",
    "# Perform the grid search\n",
    "grid.fit(X_train, y_train)\n",
    "\n",
    "# Print the optimal number of neighbors and the corresponding score\n",
    "print('Optimal number of neighbors: %d' % grid.best_params_['n_neighbors'])\n",
    "\n",
    "# Print the zero-one loss on the training data using the optimal number of neighbors\n",
    "print('Zero-one loss on training data with optimal number of %d neighbors: %f' % (grid.best_params_['n_neighbors'], zero_one_loss(y_train, grid.predict(X_train))))"
   ]
  },
  {
   "cell_type": "code",
   "execution_count": 36,
   "metadata": {},
   "outputs": [
    {
     "name": "stdout",
     "output_type": "stream",
     "text": [
      "Zero-one loss on test data with 173 neighbors: 0.095533\n"
     ]
    }
   ],
   "source": [
    "# Print the zero-one loss on the test data using the optimal number of neighbors\n",
    "y_pred_test = grid.predict(X_test)\n",
    "\n",
    "# Report the zero-one loss\n",
    "print('Zero-one loss on test data with %d neighbors: %f' % (grid.best_params_['n_neighbors'], zero_one_loss(y_test, y_pred_test)))"
   ]
  },
  {
   "cell_type": "markdown",
   "metadata": {},
   "source": [
    "With scaling"
   ]
  },
  {
   "cell_type": "code",
   "execution_count": 4,
   "metadata": {},
   "outputs": [
    {
     "name": "stdout",
     "output_type": "stream",
     "text": [
      "Optimal number of neighbors: 155\n",
      "Zero-one loss on training data with optimal number of 155 neighbors: 0.149804\n"
     ]
    }
   ],
   "source": [
    "# Load the data again\n",
    "X_train = np.loadtxt('X_train.csv', delimiter=',')\n",
    "y_train = np.loadtxt('y_train.csv', delimiter=',')\n",
    "X_test = np.loadtxt('X_test.csv', delimiter=',')\n",
    "y_test = np.loadtxt('y_test.csv', delimiter=',')\n",
    "\n",
    "# Use min-max scaling to scale the data\n",
    "scaler = StandardScaler()\n",
    "X_train = scaler.fit_transform(X_train)\n",
    "X_test = scaler.fit_transform(X_test)\n",
    "\n",
    "# Define the parameter grid\n",
    "param_grid = {'n_neighbors': np.arange(1, 500)}\n",
    "\n",
    "# Define the grid search\n",
    "grid = GridSearchCV(KNeighborsClassifier(), param_grid, cv=5, scoring='accuracy', n_jobs=-1)\n",
    "\n",
    "# Perform the grid search\n",
    "grid.fit(X_train, y_train)\n",
    "\n",
    "# Print the optimal number of neighbors and the corresponding score\n",
    "print('Optimal number of neighbors: %d' % grid.best_params_['n_neighbors'])\n",
    "\n",
    "# Print the zero-one loss on the training data using the optimal number of neighbors\n",
    "print('Zero-one loss on training data with optimal number of %d neighbors: %f' % (grid.best_params_['n_neighbors'], zero_one_loss(y_train, grid.predict(X_train))))"
   ]
  },
  {
   "cell_type": "code",
   "execution_count": 34,
   "metadata": {},
   "outputs": [
    {
     "name": "stdout",
     "output_type": "stream",
     "text": [
      "Zero-one loss on test data with 155 neighbors: 0.096396\n"
     ]
    }
   ],
   "source": [
    "# Print the zero-one loss on the test data using the optimal number of neighbors\n",
    "y_pred_test = grid.predict(X_test)\n",
    "\n",
    "# Report the zero-one loss\n",
    "print('Zero-one loss on test data with %d neighbors: %f' % (grid.best_params_['n_neighbors'], zero_one_loss(y_test, y_pred_test)))"
   ]
  }
 ],
 "metadata": {
  "kernelspec": {
   "display_name": "base",
   "language": "python",
   "name": "python3"
  },
  "language_info": {
   "codemirror_mode": {
    "name": "ipython",
    "version": 3
   },
   "file_extension": ".py",
   "mimetype": "text/x-python",
   "name": "python",
   "nbconvert_exporter": "python",
   "pygments_lexer": "ipython3",
   "version": "3.8.16"
  },
  "orig_nbformat": 4
 },
 "nbformat": 4,
 "nbformat_minor": 2
}
