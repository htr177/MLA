{
 "cells": [
  {
   "cell_type": "markdown",
   "metadata": {},
   "source": [
    "# 1 Sleep well"
   ]
  },
  {
   "cell_type": "code",
   "execution_count": 33,
   "metadata": {},
   "outputs": [],
   "source": [
    "import numpy as np\n",
    "import matplotlib.pyplot as plt\n",
    "from sklearn.linear_model import LogisticRegression\n",
    "from sklearn.model_selection import train_test_split\n",
    "from sklearn.metrics import zero_one_loss\n",
    "from sklearn.ensemble import RandomForestClassifier\n",
    "from sklearn.exceptions import ConvergenceWarning\n",
    "from sklearn.utils._testing import ignore_warnings"
   ]
  },
  {
   "cell_type": "markdown",
   "metadata": {},
   "source": [
    "1.1 Data understanding and preprocessing"
   ]
  },
  {
   "cell_type": "code",
   "execution_count": 16,
   "metadata": {},
   "outputs": [
    {
     "name": "stdout",
     "output_type": "stream",
     "text": [
      "Class frequencies:\n",
      "Class 0: 0.520875\n",
      "Class 1: 0.095511\n",
      "Class 2: 0.252728\n",
      "Class 3: 0.046940\n",
      "Class 4: 0.083946\n"
     ]
    }
   ],
   "source": [
    "# Load the training data\n",
    "X_train = np.loadtxt('X_train.csv', delimiter=',')\n",
    "y_train = np.loadtxt('y_train.csv', delimiter=',')\n",
    "X_test = np.loadtxt('X_test.csv', delimiter=',')\n",
    "y_test = np.loadtxt('y_test.csv', delimiter=',')\n",
    "\n",
    "# Report the class frequencies\n",
    "print('Class frequencies:')\n",
    "for i in range(5):\n",
    "    print('Class %d: %f' % (i, np.sum(y_train == i) / y_train.shape[0]))"
   ]
  },
  {
   "cell_type": "markdown",
   "metadata": {},
   "source": [
    "Plot"
   ]
  },
  {
   "cell_type": "code",
   "execution_count": 5,
   "metadata": {},
   "outputs": [
    {
     "data": {
      "image/png": "[encoded data removed]",
      "text/plain": [
       "<Figure size 640x480 with 1 Axes>"
      ]
     },
     "metadata": {},
     "output_type": "display_data"
    }
   ],
   "source": [
    "# Plot class frequencies (bar plot)\n",
    "plt.bar(np.arange(5), [np.sum(y_train == i) / y_train.shape[0] for i in range(5)])\n",
    "plt.xlabel('Class')\n",
    "plt.ylabel('Frequency')\n",
    "plt.title('Class frequencies')\n",
    "plt.show()"
   ]
  },
  {
   "cell_type": "markdown",
   "metadata": {},
   "source": [
    "### 1.2 Classification"
   ]
  },
  {
   "cell_type": "markdown",
   "metadata": {},
   "source": [
    "1.2.1 Multinomial Logistic Regression"
   ]
  },
  {
   "cell_type": "code",
   "execution_count": 6,
   "metadata": {},
   "outputs": [
    {
     "name": "stdout",
     "output_type": "stream",
     "text": [
      "Zero-one loss training (softmax): 0.146182\n",
      "Zero-one loss on test data (softmax): 0.098842\n"
     ]
    }
   ],
   "source": [
    "\n",
    "# Split the training data into training and validation data (80/20 split)\n",
    "X_train, X_val, y_train, y_val = train_test_split(X_train, y_train, test_size=0.2, random_state=0)\n",
    "\n",
    "# Train softmax regression model\n",
    "with ignore_warnings(category=ConvergenceWarning):\n",
    "    softmax_model = LogisticRegression(multi_class='multinomial', solver='lbfgs', random_state=0)\n",
    "    softmax_model.fit(X_train, y_train)\n",
    "\n",
    "# Make predictions on the validation data\n",
    "y_pred = softmax_model.predict(X_val)\n",
    "\n",
    "# Report the zero-one loss\n",
    "print('Zero-one loss training (softmax): %f' % zero_one_loss(y_val, y_pred))\n",
    "\n",
    "# Predict on test data\n",
    "y_pred_test = softmax_model.predict(X_test)\n",
    "\n",
    "# Report the zero-one loss\n",
    "print('Zero-one loss on test data (softmax): %f' % zero_one_loss(y_test, y_pred_test))"
   ]
  },
  {
   "cell_type": "markdown",
   "metadata": {},
   "source": [
    "1.2.2 Random Forest"
   ]
  },
  {
   "cell_type": "code",
   "execution_count": 7,
   "metadata": {},
   "outputs": [
    {
     "name": "stdout",
     "output_type": "stream",
     "text": [
      "Zero-one loss on training data with 50 trees: 0.143662\n",
      "Zero-one loss on test data with 50 trees: 0.112798\n",
      "Zero-one loss on training data with 100 trees: 0.141142\n",
      "Zero-one loss on test data with 100 trees: 0.110424\n",
      "Zero-one loss on training data with 200 trees: 0.141586\n",
      "Zero-one loss on test data with 200 trees: 0.110424\n"
     ]
    }
   ],
   "source": [
    "# Apply random forests with 50, 100, and 200 trees.\n",
    "for n_estimators in [50, 100, 200]:\n",
    "    # Train random forest classifier\n",
    "    rf_model = RandomForestClassifier(n_estimators=n_estimators, random_state=0)\n",
    "    rf_model.fit(X_train, y_train)\n",
    "\n",
    "    # Make predictions on the training data\n",
    "    y_pred_train = rf_model.predict(X_val)\n",
    "\n",
    "    # Report the zero-one loss\n",
    "    print('Zero-one loss on training data with %d trees: %f' % (n_estimators, zero_one_loss(y_val, y_pred_train)))\n",
    "\n",
    "    # Make predictions on the test data\n",
    "    y_pred_test = rf_model.predict(X_test)\n",
    "\n",
    "    # Report the zero-one loss\n",
    "    print('Zero-one loss on test data with %d trees: %f' % (n_estimators, zero_one_loss(y_test, y_pred_test)))"
   ]
  },
  {
   "cell_type": "markdown",
   "metadata": {},
   "source": [
    "1.2.3 K-NN"
   ]
  },
  {
   "cell_type": "code",
   "execution_count": null,
   "metadata": {},
   "outputs": [],
   "source": [
    "# Apply k-nearest-neighbor classification. Use cross-validation to determine\n",
    "# the number of neighbors. Report training and test loss (in terms of 0-1 loss).\n",
    "from sklearn.neighbors import KNeighborsClassifier\n",
    "\n",
    "min_n = 1\n",
    "min_loss = 1\n",
    "\n",
    "# Train k-nearest-neighbor classifier\n",
    "for n in range(1, 50):\n",
    "    knn_model = KNeighborsClassifier(n_neighbors=n)\n",
    "    knn_model.fit(X_train, y_train)\n",
    "\n",
    "    # Make predictions on the training data\n",
    "    y_pred_train = knn_model.predict(X_val)\n",
    "\n",
    "    # Report the zero-one loss\n",
    "    print('Zero-one loss on training data with %d neighbors: %f' % (n, zero_one_loss(y_val, y_pred_train)))\n",
    "\n",
    "    # Find optimal number of neighbors on training set\n",
    "    \n",
    "    if zero_one_loss(y_val, y_pred_train) < min_loss:\n",
    "        min_loss = zero_one_loss(y_val, y_pred_train)\n",
    "        min_n = n\n"
   ]
  },
  {
   "cell_type": "code",
   "execution_count": 16,
   "metadata": {},
   "outputs": [
    {
     "name": "stdout",
     "output_type": "stream",
     "text": [
      "Optimal number of neighbors: 25\n",
      "Lowest zero-one loss: 0.139956\n"
     ]
    }
   ],
   "source": [
    "# Print optimal number of neighbors with lowest zero-one loss (including loss)\n",
    "print('Optimal number of neighbors: %d' % min_n)\n",
    "print('Lowest zero-one loss: %f' % min_loss)"
   ]
  },
  {
   "cell_type": "code",
   "execution_count": 22,
   "metadata": {},
   "outputs": [
    {
     "name": "stdout",
     "output_type": "stream",
     "text": [
      "Zero-one loss on test data with 25 neighbors: 0.102367\n"
     ]
    }
   ],
   "source": [
    "# Make predictions on the test data using the optimal number of neighbors\n",
    "knn_model = KNeighborsClassifier(n_neighbors=min_n)\n",
    "knn_model.fit(X_train, y_train)\n",
    "y_pred_test = knn_model.predict(X_test)\n",
    "\n",
    "# Report the zero-one loss\n",
    "print('Zero-one loss on test data with %d neighbors: %f' % (min_n, zero_one_loss(y_test, y_pred_test)))"
   ]
  },
  {
   "cell_type": "code",
   "execution_count": 25,
   "metadata": {},
   "outputs": [],
   "source": [
    "# Try a new K-NN classifier using 5-fold cross-validation and standardscaler\n",
    "from sklearn.model_selection import cross_val_score\n",
    "from sklearn.preprocessing import StandardScaler\n",
    "from sklearn.neighbors import KNeighborsClassifier\n",
    "\n",
    "# Load the data again\n",
    "X_train = np.loadtxt('X_train.csv', delimiter=',')\n",
    "y_train = np.loadtxt('y_train.csv', delimiter=',')\n",
    "X_test = np.loadtxt('X_test.csv', delimiter=',')\n",
    "y_test = np.loadtxt('y_test.csv', delimiter=',')\n",
    "\n",
    "# Split the training data into training and validation data (80/20 split)\n",
    "X_train, X_val, y_train, y_val = train_test_split(X_train, y_train, test_size=0.2, random_state=0)\n",
    "\n",
    "k_values = [n for n in range (1,200)]\n",
    "scores = []\n",
    "\n",
    "# scaler = StandardScaler()\n",
    "# X_train = scaler.fit_transform(X_train)\n",
    "# X_val = scaler.fit_transform(X_val)\n",
    "# X_test = scaler.fit_transform(X_test)\n",
    "\n",
    "for k in k_values:\n",
    "    knn_cv = KNeighborsClassifier(n_neighbors=k, n_jobs=-1)\n",
    "    score = cross_val_score(knn_cv, X_train, y_train, cv=5, scoring='accuracy', n_jobs=-1)\n",
    "    scores.append(np.mean(score))\n",
    "\n",
    "# Plot the cross-validation scores\n",
    "plt.plot(k_values, scores)\n",
    "plt.xlabel('Number of neighbors')\n",
    "plt.ylabel('Cross-validation score')\n",
    "plt.title('Cross-validation score for K-NN')\n",
    "plt.show()"
   ]
  },
  {
   "cell_type": "code",
   "execution_count": 29,
   "metadata": {},
   "outputs": [
    {
     "name": "stdout",
     "output_type": "stream",
     "text": [
      "1.0337226130910683e-17\n"
     ]
    }
   ],
   "source": [
    "print(np.mean(X_train))"
   ]
  },
  {
   "cell_type": "code",
   "execution_count": 30,
   "metadata": {},
   "outputs": [
    {
     "name": "stdout",
     "output_type": "stream",
     "text": [
      "0.0\n"
     ]
    }
   ],
   "source": [
    "print(round(np.mean(X_train), 2))"
   ]
  },
  {
   "cell_type": "code",
   "execution_count": 38,
   "metadata": {},
   "outputs": [
    {
     "name": "stdout",
     "output_type": "stream",
     "text": [
      "Optimal number of neighbors: 173\n",
      "Lowest zero-one loss: 0.840737\n"
     ]
    }
   ],
   "source": [
    "from sklearn.model_selection import GridSearchCV\n",
    "from sklearn.metrics import make_scorer\n",
    "\n",
    "# Load the data again\n",
    "X_train = np.loadtxt('X_train.csv', delimiter=',')\n",
    "y_train = np.loadtxt('y_train.csv', delimiter=',')\n",
    "X_test = np.loadtxt('X_test.csv', delimiter=',')\n",
    "y_test = np.loadtxt('y_test.csv', delimiter=',')\n",
    "\n",
    "# Define the parameter grid\n",
    "param_grid = {'n_neighbors': np.arange(160, 175)}\n",
    "\n",
    "# Define the grid search\n",
    "grid = GridSearchCV(KNeighborsClassifier(), param_grid, cv=5, scoring='accuracy', n_jobs=-1)\n",
    "\n",
    "# Perform the grid search\n",
    "grid.fit(X_train, y_train)\n",
    "\n",
    "# Print the optimal number of neighbors and the corresponding score\n",
    "print('Optimal number of neighbors: %d' % grid.best_params_['n_neighbors'])\n",
    "print('Lowest zero-one loss: %f' % grid.best_score_)"
   ]
  },
  {
   "cell_type": "code",
   "execution_count": null,
   "metadata": {},
   "outputs": [],
   "source": [
    "# Print the zero-one loss on the test data using the optimal number of neighbors\n",
    "y_pred_test = grid.predict(X_test)"
   ]
  },
  {
   "cell_type": "code",
   "execution_count": 24,
   "metadata": {},
   "outputs": [
    {
     "name": "stdout",
     "output_type": "stream",
     "text": [
      "Zero-one loss on validation data with 70 neighbors: 0.142476\n"
     ]
    }
   ],
   "source": [
    "# Find optimal number of neighbors on training set\n",
    "best_index = np.argmax(scores)\n",
    "best_k = k_values[best_index]\n",
    "\n",
    "knn = KNeighborsClassifier(n_neighbors=best_k)\n",
    "knn.fit(X_train, y_train)\n",
    "\n",
    "# Make predictions on the validation data using the optimal number of neighbors\n",
    "y_pred_val = knn.predict(X_val)\n",
    "\n",
    "# Report the zero-one loss\n",
    "print('Zero-one loss on validation data with %d neighbors: %f' % (best_k, zero_one_loss(y_val, y_pred_val)))\n",
    "\n",
    "# Make predictions on the test data using the optimal number of neighbors"
   ]
  }
 ],
 "metadata": {
  "kernelspec": {
   "display_name": "base",
   "language": "python",
   "name": "python3"
  },
  "language_info": {
   "codemirror_mode": {
    "name": "ipython",
    "version": 3
   },
   "file_extension": ".py",
   "mimetype": "text/x-python",
   "name": "python",
   "nbconvert_exporter": "python",
   "pygments_lexer": "ipython3",
   "version": "3.9.16"
  },
  "orig_nbformat": 4
 },
 "nbformat": 4,
 "nbformat_minor": 2
}
